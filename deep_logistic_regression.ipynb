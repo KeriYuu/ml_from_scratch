{
 "cells": [
  {
   "cell_type": "code",
   "execution_count": 1,
   "metadata": {},
   "outputs": [],
   "source": [
    "import numpy as np"
   ]
  },
  {
   "cell_type": "code",
   "execution_count": null,
   "metadata": {},
   "outputs": [],
   "source": [
    "class LogisticRegression:\n",
    "    def __init__(self, input_dim, hidden_dim, lr=0.01, seed=42):\n",
    "        self.lr = lr\n",
    "\n",
    "        # Xavier initialization\n",
    "        self.W1 = np.random.randn(input_dim, hidden_dim) / np.sqrt(input_dim) \n",
    "        self.b1 = np.zeros((1, hidden_dim))\n",
    "        self.W2 = np.random.randn(hidden_dim, 1) / np.sqrt(hidden_dim)\n",
    "        self.b2 = np.zeros((1, 1))\n",
    "\n",
    "    def sigmoid(self, z):\n",
    "        return 1 / (1 + np.exp(-z))\n",
    "\n",
    "    def sigmoid_deriv(self, a):\n",
    "        return a * (1 - a)\n",
    "\n",
    "    def relu(self, z):\n",
    "        return np.maximum(0, z)\n",
    "\n",
    "    def relu_deriv(self, z):\n",
    "        return np.where(z > 0, 1, 0)\n",
    "\n",
    "    def forward(self, X):\n",
    "        z1 = X @ self.W1 + self.b1 # (m, hidden_dim)    \n",
    "        a1 = self.relu(z1) # (m, hidden_dim)\n",
    "        z2 = a1 @ self.W2 + self.b2 # (m, 1)\n",
    "        a2 = self.sigmoid(z2) # (m, 1)\n",
    "\n",
    "        cache = {\n",
    "            'X': X,\n",
    "            'z1': z1,\n",
    "            'a1': a1,\n",
    "            'z2': z2,\n",
    "            'a2': a2\n",
    "        }\n",
    "        return a2, cache\n",
    "\n",
    "    def compute_loss(self, y, y_pred):\n",
    "        eps = 1e-10\n",
    "        y_pred = np.clip(y_pred, eps, 1 - eps)\n",
    "        loss = -np.mean(y * np.log(y_pred) + (1 - y) * np.log(1 - y_pred))\n",
    "        return loss\n",
    "    \n",
    "    def backward(self, X, y, cache):\n",
    "        m = X.shape[0]\n",
    "        z1, a1, z2, a2 = cache['z1'], cache['a1'], cache['z2'], cache['a2']\n",
    "\n",
    "        da2 = - (y / a2 - (1 - y) / (1 - a2)) # (m, 1)  \n",
    "        dz2 = da2 * self.sigmoid_deriv(a2) # (m, 1)\n",
    "        # dz2 = a2 - y # (m, 1)\n",
    "        dW2 = (1 / m) * a1.T @ dz2 # (hidden_dim, 1)\n",
    "        db2 = (1 / m) * np.sum(dz2, axis=0, keepdims=True) # (1, 1)\n",
    "\n",
    "        da1 = dz2 @ self.W2.T # (m, hidden_dim)\n",
    "        dz1 = da1 * self.relu_deriv(z1) # (m, hidden_dim)\n",
    "        dW1 = (1 / m) * X.T @ dz1 # (input_dim, hidden_dim)\n",
    "        db1 = (1 / m) * np.sum(dz1, axis=0, keepdims=True) # (1, hidden_dim)\n",
    "\n",
    "        grads = {\n",
    "            'dW1': dW1,\n",
    "            'db1': db1,\n",
    "            'dW2': dW2,\n",
    "            'db2': db2\n",
    "        }\n",
    "        return grads\n",
    "\n",
    "    def update(self, grads):\n",
    "        self.W1 -= self.lr * grads['dW1']\n",
    "        self.b1 -= self.lr * grads['db1']\n",
    "        self.W2 -= self.lr * grads['dW2']\n",
    "        self.b2 -= self.lr * grads['db2']\n",
    "\n",
    "    def train(self, X, y, num_epochs=100, batch_size=32):        \n",
    "        for epoch in range(num_epochs):\n",
    "            for i in range(0, X.shape[0], batch_size):\n",
    "                X_batch = X[i:i+batch_size]\n",
    "                y_batch = y[i:i+batch_size]\n",
    "\n",
    "                y_pred,cache = self.forward(X_batch)\n",
    "                grads = self.backward(X_batch, y_batch, cache)\n",
    "                self.update(grads)\n",
    "\n",
    "            if epoch % 10 == 0:\n",
    "                y_pred_full, _ = self.forward(X)\n",
    "                loss = self.compute_loss(y, y_pred_full)\n",
    "                print(f\"Epoch {epoch}, Loss: {loss}\")\n",
    "\n",
    "        return y_pred\n",
    "\n",
    "    def predict(self, X):\n",
    "        y_pred, _ = self.forward(X)\n",
    "        return (y_pred >= 0.5).astype(int)\n",
    "\n",
    "    def predict_proba(self, X):\n",
    "        y_pred, _ = self.forward(X)\n",
    "        return y_pred\n"
   ]
  },
  {
   "cell_type": "code",
   "execution_count": 3,
   "metadata": {},
   "outputs": [],
   "source": [
    "from sklearn.datasets import fetch_openml\n",
    "X, y = fetch_openml(\"ionosphere\", as_frame=False, return_X_y=True)\n",
    "y = (y == 'g').astype(int)  # 1=good, 0=bad\n",
    "y = y.reshape(-1, 1)\n"
   ]
  },
  {
   "cell_type": "code",
   "execution_count": 4,
   "metadata": {},
   "outputs": [
    {
     "name": "stdout",
     "output_type": "stream",
     "text": [
      "Epoch 0, Loss: 0.8350148518967819\n",
      "Epoch 10, Loss: 0.6224704277323438\n",
      "Epoch 20, Loss: 0.5614645471479323\n",
      "Epoch 30, Loss: 0.5217776985793212\n",
      "Epoch 40, Loss: 0.486955207620354\n",
      "Epoch 50, Loss: 0.4511582618934919\n",
      "Epoch 60, Loss: 0.4166471147038429\n",
      "Epoch 70, Loss: 0.38566884439148996\n",
      "Epoch 80, Loss: 0.3589761483878302\n",
      "Epoch 90, Loss: 0.3358991446060723\n",
      "Accuracy: 0.9002849002849003\n"
     ]
    }
   ],
   "source": [
    "model = LogisticRegression(X.shape[1], 16)\n",
    "model.train(X, y)\n",
    "\n",
    "y_pred = model.predict(X)\n",
    "print(f\"Accuracy: {np.mean(y_pred == y)}\")\n",
    "\n"
   ]
  },
  {
   "cell_type": "code",
   "execution_count": null,
   "metadata": {},
   "outputs": [],
   "source": []
  }
 ],
 "metadata": {
  "kernelspec": {
   "display_name": "base",
   "language": "python",
   "name": "python3"
  },
  "language_info": {
   "codemirror_mode": {
    "name": "ipython",
    "version": 3
   },
   "file_extension": ".py",
   "mimetype": "text/x-python",
   "name": "python",
   "nbconvert_exporter": "python",
   "pygments_lexer": "ipython3",
   "version": "3.9.7"
  }
 },
 "nbformat": 4,
 "nbformat_minor": 2
}
