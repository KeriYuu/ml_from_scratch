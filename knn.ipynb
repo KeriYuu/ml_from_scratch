{
 "cells": [
  {
   "cell_type": "code",
   "execution_count": 1,
   "metadata": {},
   "outputs": [],
   "source": [
    "import numpy as np"
   ]
  },
  {
   "cell_type": "code",
   "execution_count": null,
   "metadata": {},
   "outputs": [],
   "source": [
    "class KNN:\n",
    "    def __init__(self, k=3):\n",
    "        self.k = k\n",
    "\n",
    "    def fit(self, X, y):\n",
    "        self.X_train = X\n",
    "        self.y_train = y\n",
    "        return self\n",
    "\n",
    "    def predict(self, X):\n",
    "        y_pred = np.zeros(len(X))\n",
    "        for i, x in enumerate(X):\n",
    "            distances = np.sqrt(np.sum((self.X_train - x) ** 2, axis=1))\n",
    "            k_indices = np.argpartition(distances, self.k)[:self.k]\n",
    "            k_nearest_labels = self.y_train[k_indices]\n",
    "            y_pred[i] = np.argmax(np.bincount(k_nearest_labels))\n",
    "        return y_pred"
   ]
  },
  {
   "cell_type": "code",
   "execution_count": 3,
   "metadata": {},
   "outputs": [
    {
     "name": "stdout",
     "output_type": "stream",
     "text": [
      "Test accuracy: 1.000\n",
      "First 10 predictions vs truth:\n",
      "[[1. 1.]\n",
      " [0. 0.]\n",
      " [1. 1.]\n",
      " [0. 0.]\n",
      " [1. 1.]\n",
      " [1. 1.]\n",
      " [0. 0.]\n",
      " [0. 0.]\n",
      " [1. 1.]\n",
      " [1. 1.]]\n"
     ]
    }
   ],
   "source": [
    "import numpy as np\n",
    "\n",
    "\n",
    "rng = np.random.default_rng(0)\n",
    "n_per_class = 50\n",
    "X0 = rng.normal(loc=[0, 0], scale=0.5, size=(n_per_class, 2))\n",
    "X1 = rng.normal(loc=[3, 3], scale=0.5, size=(n_per_class, 2))\n",
    "X = np.vstack([X0, X1])\n",
    "y = np.array([0]*n_per_class + [1]*n_per_class)\n",
    "\n",
    "\n",
    "perm = rng.permutation(len(X))\n",
    "X, y = X[perm], y[perm]\n",
    "\n",
    "\n",
    "split = 70\n",
    "X_train, y_train = X[:split], y[:split]\n",
    "X_test,  y_test  = X[split:], y[split:]\n",
    "\n",
    "\n",
    "clf = KNN(k=3).fit(X_train, y_train)\n",
    "y_pred = clf.predict(X_test)\n",
    "\n",
    "\n",
    "acc = (y_pred == y_test).mean()\n",
    "print(f\"Test accuracy: {acc:.3f}\")\n",
    "print(\"First 10 predictions vs truth:\")\n",
    "print(np.vstack([y_pred[:10], y_test[:10]]).T)\n"
   ]
  }
 ],
 "metadata": {
  "kernelspec": {
   "display_name": "base",
   "language": "python",
   "name": "python3"
  },
  "language_info": {
   "codemirror_mode": {
    "name": "ipython",
    "version": 3
   },
   "file_extension": ".py",
   "mimetype": "text/x-python",
   "name": "python",
   "nbconvert_exporter": "python",
   "pygments_lexer": "ipython3",
   "version": "3.9.7"
  }
 },
 "nbformat": 4,
 "nbformat_minor": 2
}
