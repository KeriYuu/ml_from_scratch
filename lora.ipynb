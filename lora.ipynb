{
 "cells": [
  {
   "cell_type": "code",
   "execution_count": 6,
   "metadata": {},
   "outputs": [],
   "source": [
    "import torch\n",
    "import torch.nn as nn\n",
    "import math"
   ]
  },
  {
   "cell_type": "code",
   "execution_count": 7,
   "metadata": {},
   "outputs": [],
   "source": [
    "class LoraLayer(nn.Module):\n",
    "    def __init__(self, in_dim, out_dim, rank, alpha, dropout):\n",
    "        super().__init__()\n",
    "        self.in_dim = in_dim\n",
    "        self.out_dim = out_dim\n",
    "        self.rank = rank\n",
    "\n",
    "        self.dropout = nn.Dropout(dropout)\n",
    "        self.A = nn.Linear(in_dim, rank, bias=False)\n",
    "        self.B = nn.Linear(rank, out_dim, bias=False)\n",
    "        self.dropout_layer = nn.Dropout(dropout)\n",
    "        self.scaling = alpha / rank\n",
    "\n",
    "    def forward(self, x):\n",
    "        x = self.A(x)\n",
    "        x = self.dropout_layer(x)\n",
    "        x = self.B(x)\n",
    "        return x * self.scaling\n",
    "\n",
    "\n",
    "class LoraLinear(nn.Module):\n",
    "    def __init__(self, linear_layer, rank, alpha, dropout):\n",
    "        super().__init__()\n",
    "        self.linear_layer = linear_layer\n",
    "        self.linear_layer.weight.requires_grad = False\n",
    "\n",
    "        self.lora_layer = LoraLayer(linear_layer.in_features, linear_layer.out_features, rank, alpha, dropout)\n",
    "\n",
    "    def forward(self, x):\n",
    "        return self.linear_layer(x) + self.lora_layer(x)\n",
    "\n",
    "\n",
    "def replace_linear_with_lora(model, rank, alpha, dropout):\n",
    "    for name, module in model.named_children():\n",
    "        if isinstance(module, nn.Linear):\n",
    "            lora_layer = LoraLinear(module, rank, alpha, dropout)\n",
    "            setattr(model, name, lora_layer)\n",
    "\n",
    "        else:\n",
    "            replace_linear_with_lora(module, rank, alpha, dropout)\n",
    "    return model\n",
    "        \n",
    "        \n",
    "        \n",
    "        \n",
    "        "
   ]
  },
  {
   "cell_type": "code",
   "execution_count": 8,
   "metadata": {},
   "outputs": [
    {
     "name": "stdout",
     "output_type": "stream",
     "text": [
      "original model:  TestModel(\n",
      "  (linear1): Linear(in_features=10, out_features=10, bias=True)\n",
      "  (linear2): Linear(in_features=10, out_features=10, bias=True)\n",
      ")\n",
      "lora model:  TestModel(\n",
      "  (linear1): LoraLinear(\n",
      "    (linear_layer): Linear(in_features=10, out_features=10, bias=True)\n",
      "    (lora_layer): LoraLayer(\n",
      "      (dropout): Dropout(p=0.0, inplace=False)\n",
      "      (A): Linear(in_features=10, out_features=10, bias=False)\n",
      "      (B): Linear(in_features=10, out_features=10, bias=False)\n",
      "      (dropout_layer): Dropout(p=0.0, inplace=False)\n",
      "    )\n",
      "  )\n",
      "  (linear2): LoraLinear(\n",
      "    (linear_layer): Linear(in_features=10, out_features=10, bias=True)\n",
      "    (lora_layer): LoraLayer(\n",
      "      (dropout): Dropout(p=0.0, inplace=False)\n",
      "      (A): Linear(in_features=10, out_features=10, bias=False)\n",
      "      (B): Linear(in_features=10, out_features=10, bias=False)\n",
      "      (dropout_layer): Dropout(p=0.0, inplace=False)\n",
      "    )\n",
      "  )\n",
      ")\n",
      "linear1.linear_layer.weight False\n",
      "linear1.linear_layer.bias True\n",
      "linear1.lora_layer.A.weight True\n",
      "linear1.lora_layer.B.weight True\n",
      "linear2.linear_layer.weight False\n",
      "linear2.linear_layer.bias True\n",
      "linear2.lora_layer.A.weight True\n",
      "linear2.lora_layer.B.weight True\n"
     ]
    }
   ],
   "source": [
    "class TestModel(nn.Module):\n",
    "    def __init__(self):\n",
    "        super().__init__()\n",
    "        self.linear1 = nn.Linear(10, 10)\n",
    "        self.linear2 = nn.Linear(10, 10)\n",
    "\n",
    "\n",
    "model = TestModel()\n",
    "print(\"original model: \", model)\n",
    "replace_linear_with_lora(model, 10, 1.0, 0.0)\n",
    "print(\"lora model: \", model)\n",
    "\n",
    "\n",
    "for name, param in model.named_parameters():\n",
    "    print(name, param.requires_grad)\n",
    "\n",
    "\n"
   ]
  },
  {
   "cell_type": "code",
   "execution_count": null,
   "metadata": {},
   "outputs": [],
   "source": []
  }
 ],
 "metadata": {
  "kernelspec": {
   "display_name": "base",
   "language": "python",
   "name": "python3"
  },
  "language_info": {
   "codemirror_mode": {
    "name": "ipython",
    "version": 3
   },
   "file_extension": ".py",
   "mimetype": "text/x-python",
   "name": "python",
   "nbconvert_exporter": "python",
   "pygments_lexer": "ipython3",
   "version": "3.9.7"
  }
 },
 "nbformat": 4,
 "nbformat_minor": 2
}
