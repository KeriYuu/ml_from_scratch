{
 "cells": [
  {
   "cell_type": "markdown",
   "metadata": {},
   "source": [
    "contrastive learning"
   ]
  },
  {
   "cell_type": "code",
   "execution_count": null,
   "metadata": {},
   "outputs": [],
   "source": [
    "import torch\n",
    "\n",
    "def pairwise_dis(x1, x2, p=2.0, eps=1e-8):\n",
    "    diff = x1 - x2                           # (..., D)\n",
    "    return (diff.abs().pow(p).sum(dim=-1) + eps).pow(1.0/p)   # (...,)\n",
    "\n",
    "def relu(x):\n",
    "    return torch.clamp(x, min=0.0)\n",
    "\n",
    "def l2_norm(x, eps=1e-8):\n",
    "    return x / (x.pow(2).sum(dim=-1, keepdim=True).add(eps).sqrt())\n",
    "\n",
    "def rowwise_logsumexp(x):\n",
    "    # stable: logsumexp(x) = m + logsumexp(x - m)\n",
    "    m, _ = x.max(dim=1, keepdim=True)        # (B,1)\n",
    "    return (m + torch.log(torch.exp(x - m).sum(dim=1, keepdim=True))).squeeze(1)  # (B,)\n",
    "\n",
    "\n",
    "\n",
    "def contrastive_loss(z1, z2, label, margin=1.0):\n",
    "    label = label.float()\n",
    "    dist = pairwise_dis(z1, z2)\n",
    "    return (label*dist.pow(2) + (1-label)*relu(margin - dist).pow(2)).mean()\n",
    "\n",
    "def triplet_loss(anchor, positive, negative, margin=1.0):\n",
    "    d_pos = pairwise_dis(anchor, positive)\n",
    "    d_neg = pairwise_dis(anchor, negative)\n",
    "    return relu(margin + d_pos - d_neg).mean()\n",
    "\n",
    "def info_nce_loss_oneway(z1, z2, temperature=0.1):\n",
    "    # z1 can be text, z2 can be image\n",
    "    z1 = l2_norm(z1)\n",
    "    z2 = l2_norm(z2)\n",
    "\n",
    "    logits = (z1 @ z2.T) / temperature       # Gram matrix (B,B)\n",
    "    pos = logits.diag()                      # (B,)\n",
    "    #cross entropy = -logsoftmax = logsumexp(x) - logit of correct class\n",
    "    return (rowwise_logsumexp(logits) - pos).mean()\n",
    "\n",
    "def info_nce_loss_twoway(z1, z2, temperature=0.1):\n",
    "    return 0.5*(info_nce_loss_oneway(z1, z2, temperature) +\n",
    "                info_nce_loss_oneway(z2, z1, temperature))\n"
   ]
  },
  {
   "cell_type": "markdown",
   "metadata": {},
   "source": [
    "entropy and KL\n",
    "\n",
    "p -> true\n",
    "\n",
    "\n",
    "CE(p, q) = H(p) + KL(p||q) # (B, )"
   ]
  },
  {
   "cell_type": "code",
   "execution_count": null,
   "metadata": {},
   "outputs": [],
   "source": [
    "def entropy(p):\n",
    "    return -(p * p.log()).sum(dim=-1) #(B,)\n",
    "\n",
    "def kl_divergence(p, q):\n",
    "    return (p * (p.log() - q.log())).sum(dim=-1) #(B,)\n",
    "\n"
   ]
  },
  {
   "cell_type": "markdown",
   "metadata": {},
   "source": [
    "mse"
   ]
  },
  {
   "cell_type": "code",
   "execution_count": null,
   "metadata": {},
   "outputs": [],
   "source": [
    "def mse(y, y_pred): # (B,)\n",
    "    return ((y - y_pred) ** 2).mean() # scalar\n",
    "\n"
   ]
  },
  {
   "cell_type": "markdown",
   "metadata": {},
   "source": [
    "next token prediction loss"
   ]
  },
  {
   "cell_type": "code",
   "execution_count": null,
   "metadata": {},
   "outputs": [],
   "source": [
    "# F.cross_entropy(logits, target)= F.nll_loss(F.log_softmax(logits, dim=-1), target)\n",
    "\n",
    "def cross_entropy(logits, labels, ignore_index=-100): #  logits (N, V) labels (N,)\n",
    "    mask = labels != ignore_index\n",
    "    logits = logits[mask]\n",
    "    labels = labels[mask]\n",
    "    pos = logits[torch.arange(logits.size(0)), labels]\n",
    "    return rowwise_logsumexp(logits) - pos # (N,) nll loss\n",
    "\n",
    "def build_shift_labels(input_ids, pad_id=0, ignore_index=-100):\n",
    "    labels = input_ids.clone()\n",
    "    labels[:, :-1] = input_ids[:, 1:] # (B, T-1)\n",
    "    labels[:, -1] = ignore_index\n",
    "    labels[input_ids == pad_id] = ignore_index\n",
    "    return labels\n",
    "\n",
    "def next_token_prediction_loss(logits, labels): #  logits (B, T, V) labels (B, T)\n",
    "    ce = cross_entropy(\n",
    "        logits.view(-1, logits.size(-1)), # (B*T, V)\n",
    "        labels.view(-1) # (B*T,)\n",
    "    )\n",
    "    return ce.mean()\n"
   ]
  }
 ],
 "metadata": {
  "kernelspec": {
   "display_name": "base",
   "language": "python",
   "name": "python3"
  },
  "language_info": {
   "codemirror_mode": {
    "name": "ipython",
    "version": 3
   },
   "file_extension": ".py",
   "mimetype": "text/x-python",
   "name": "python",
   "nbconvert_exporter": "python",
   "pygments_lexer": "ipython3",
   "version": "3.9.7"
  }
 },
 "nbformat": 4,
 "nbformat_minor": 2
}
